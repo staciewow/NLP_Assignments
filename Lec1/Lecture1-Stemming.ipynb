{
 "cells": [
  {
   "cell_type": "code",
   "execution_count": 1,
   "metadata": {
    "collapsed": true
   },
   "outputs": [],
   "source": [
    "raw_docs = [\"Here are some very simple basic sentences.\",\n",
    "\"They won't be very interesting, I'm afraid.\",\n",
    "\"The point of these examples is to _learn how basic text cleaning works_ on *very simple* data.\"]"
   ]
  },
  {
   "cell_type": "markdown",
   "metadata": {},
   "source": [
    "Type these installation commands into your terminal:\n",
    "\n",
    "pip install nltk scikit-learn\n",
    "\n",
    "python -m nltk.downloader all\n",
    "\n",
    "Here we're going to start using NLTK (Natural Language Toolkit) - NLTK is one of the most popular python packages for NLP analysis and contains a wide variety of tools and datasets."
   ]
  },
  {
   "cell_type": "code",
   "execution_count": 2,
   "metadata": {},
   "outputs": [
    {
     "data": {
      "text/plain": [
       "[['Here', 'are', 'some', 'very', 'simple', 'basic', 'sentences', '.'],\n",
       " ['They',\n",
       "  'wo',\n",
       "  \"n't\",\n",
       "  'be',\n",
       "  'very',\n",
       "  'interesting',\n",
       "  ',',\n",
       "  'I',\n",
       "  \"'m\",\n",
       "  'afraid',\n",
       "  '.'],\n",
       " ['The',\n",
       "  'point',\n",
       "  'of',\n",
       "  'these',\n",
       "  'examples',\n",
       "  'is',\n",
       "  'to',\n",
       "  '_learn',\n",
       "  'how',\n",
       "  'basic',\n",
       "  'text',\n",
       "  'cleaning',\n",
       "  'works_',\n",
       "  'on',\n",
       "  '*very',\n",
       "  'simple*',\n",
       "  'data',\n",
       "  '.']]"
      ]
     },
     "execution_count": 2,
     "metadata": {},
     "output_type": "execute_result"
    }
   ],
   "source": [
    "from nltk.tokenize import word_tokenize\n",
    "\n",
    "tokenized_docs = [word_tokenize(doc) for doc in raw_docs]\n",
    "tokenized_docs"
   ]
  },
  {
   "cell_type": "markdown",
   "metadata": {},
   "source": [
    "### Removing punctuation\n",
    "\n",
    "Punctuation can help with tokenizers, but once you've done that, there's no reason to keep it around. There are tons of ways to remove punctuation. Since we have already learned regex, how would we do this?"
   ]
  },
  {
   "cell_type": "code",
   "execution_count": 3,
   "metadata": {},
   "outputs": [
    {
     "data": {
      "text/plain": [
       "[['Here', 'are', 'some', 'very', 'simple', 'basic', 'sentences'],\n",
       " ['They', 'wo', 'nt', 'be', 'very', 'interesting', 'I', 'm', 'afraid'],\n",
       " ['The',\n",
       "  'point',\n",
       "  'of',\n",
       "  'these',\n",
       "  'examples',\n",
       "  'is',\n",
       "  'to',\n",
       "  'learn',\n",
       "  'how',\n",
       "  'basic',\n",
       "  'text',\n",
       "  'cleaning',\n",
       "  'works',\n",
       "  'on',\n",
       "  'very',\n",
       "  'simple',\n",
       "  'data']]"
      ]
     },
     "execution_count": 3,
     "metadata": {},
     "output_type": "execute_result"
    }
   ],
   "source": [
    "import re\n",
    "import string\n",
    "regex = re.compile('[%s]' % re.escape(string.punctuation)) #see documentation here: http://docs.python.org/2/library/string.html\n",
    "\n",
    "tokenized_docs_no_punctuation = []\n",
    "\n",
    "for review in tokenized_docs:\n",
    "    \n",
    "    new_review = []\n",
    "    for token in review: \n",
    "        new_token = regex.sub(u'', token)\n",
    "        if not new_token == u'':\n",
    "            new_review.append(new_token)\n",
    "    \n",
    "    tokenized_docs_no_punctuation.append(new_review)\n",
    "    \n",
    "tokenized_docs_no_punctuation\n"
   ]
  },
  {
   "cell_type": "markdown",
   "metadata": {},
   "source": [
    "### Cleaning text of stopwords\n",
    "\n",
    "There are some really basic words that just don't matter. NLTK comes with a list of them for many languages."
   ]
  },
  {
   "cell_type": "code",
   "execution_count": 4,
   "metadata": {},
   "outputs": [
    {
     "data": {
      "text/plain": [
       "[['Here', 'simple', 'basic', 'sentences'],\n",
       " ['They', 'wo', 'nt', 'interesting', 'I', 'afraid'],\n",
       " ['The',\n",
       "  'point',\n",
       "  'examples',\n",
       "  'learn',\n",
       "  'basic',\n",
       "  'text',\n",
       "  'cleaning',\n",
       "  'works',\n",
       "  'simple',\n",
       "  'data']]"
      ]
     },
     "execution_count": 4,
     "metadata": {},
     "output_type": "execute_result"
    }
   ],
   "source": [
    "from nltk.corpus import stopwords\n",
    "\n",
    "tokenized_docs_no_stopwords = []\n",
    "for doc in tokenized_docs_no_punctuation:\n",
    "    new_term_vector = []\n",
    "    for word in doc:\n",
    "        if not word in stopwords.words('english'):\n",
    "            new_term_vector.append(word)\n",
    "    tokenized_docs_no_stopwords.append(new_term_vector)\n",
    "            \n",
    "tokenized_docs_no_stopwords\n",
    "\n"
   ]
  },
  {
   "cell_type": "markdown",
   "metadata": {},
   "source": [
    "### Stemming and Lemmatizing"
   ]
  },
  {
   "cell_type": "code",
   "execution_count": 5,
   "metadata": {},
   "outputs": [
    {
     "data": {
      "text/plain": [
       "[['here', 'simpl', 'basic', 'sentenc'],\n",
       " ['they', 'wo', 'nt', 'interest', 'I', 'afraid'],\n",
       " ['the',\n",
       "  'point',\n",
       "  'exampl',\n",
       "  'learn',\n",
       "  'basic',\n",
       "  'text',\n",
       "  'clean',\n",
       "  'work',\n",
       "  'simpl',\n",
       "  'data']]"
      ]
     },
     "execution_count": 5,
     "metadata": {},
     "output_type": "execute_result"
    }
   ],
   "source": [
    "from nltk.stem.porter import PorterStemmer\n",
    "from nltk.stem.snowball import SnowballStemmer\n",
    "from nltk.stem.wordnet import WordNetLemmatizer\n",
    "\n",
    "porter = PorterStemmer()\n",
    "snowball = SnowballStemmer('english')\n",
    "wordnet = WordNetLemmatizer()\n",
    "\n",
    "preprocessed_docs = []\n",
    "\n",
    "for doc in tokenized_docs_no_stopwords:\n",
    "    final_doc = []\n",
    "    for word in doc:\n",
    "        final_doc.append(porter.stem(word))\n",
    "        #final_doc.append(snowball.stem(word))\n",
    "        #final_doc.append(wordnet.lemmatize(word)) #note that lemmatize() can also takes part of speech as an argument!\n",
    "    preprocessed_docs.append(final_doc)\n",
    "\n",
    "preprocessed_docs"
   ]
  },
  {
   "cell_type": "code",
   "execution_count": null,
   "metadata": {
    "collapsed": true
   },
   "outputs": [],
   "source": []
  }
 ],
 "metadata": {
  "anaconda-cloud": {},
  "kernelspec": {
   "display_name": "Python 3",
   "language": "python",
   "name": "python3"
  },
  "language_info": {
   "codemirror_mode": {
    "name": "ipython",
    "version": 3
   },
   "file_extension": ".py",
   "mimetype": "text/x-python",
   "name": "python",
   "nbconvert_exporter": "python",
   "pygments_lexer": "ipython3",
   "version": "3.6.3"
  }
 },
 "nbformat": 4,
 "nbformat_minor": 1
}
